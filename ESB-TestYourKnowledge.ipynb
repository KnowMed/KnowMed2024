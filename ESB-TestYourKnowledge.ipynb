{
 "cells": [
  {
   "cell_type": "code",
   "execution_count": 1,
   "id": "20707533-5fdd-4c38-ab8a-8a120ce02682",
   "metadata": {},
   "outputs": [],
   "source": [
    "# Libraries\n",
    "import pandas as pd\n",
    "import PySimpleGUI as sg\n",
    "import re"
   ]
  },
  {
   "cell_type": "code",
   "execution_count": 2,
   "id": "c76bad76-f1b9-4958-bc0a-6852ec3fe606",
   "metadata": {},
   "outputs": [],
   "source": [
    "# Paths\n",
    "path = 'MergedData.csv'"
   ]
  },
  {
   "cell_type": "markdown",
   "id": "f9916ce5-0809-4c27-a947-b530fda5d581",
   "metadata": {},
   "source": [
    "# Test Your Knowledge"
   ]
  },
  {
   "cell_type": "markdown",
   "id": "b9d72ddb-352b-43ba-843b-0a36e92dcd74",
   "metadata": {},
   "source": [
    "This notebook is to be run by the medical student/doctor who wishes to test his/her knowledge.\n",
    "\n",
    "The file of a random patient will be pulled from the dataset, and you will be presented with the vital signs, some contextual information and a doctor's note for the patient. You will then be asked to name up to 5 different diagnoses of the patient. If the name of the diagnoses appears in the doctor's note, it will be replaced with a \"(DIAGNOSIS)\". This does not mean that if there is one blank, there is only one diagnosis. It is up to you to determine the right number of diagnoses.\n",
    "\n",
    "The possible diagnosis/es are:\n",
    "* asthma\n",
    "* iron deficiency\n",
    "* pneumonia\n",
    "* substancedependence\n",
    "* fibrosis (any kind)\n",
    "* malnutrition\n",
    "\n",
    "You can carry on testing yourself as long as you like. Once you choose to finish testing, you will be presented with two scores:\n",
    "1. Macro score: This will be the percentage of patients you managed to guess completely correct. If you guessed one out of two diagnoses for a patient, you will not get any marks here.\n",
    "2. Micro score: This will take into consideration the number of diagnoses correctly guessed out of the total number of diagnoses.\n",
    "\n",
    "To run this notebook, navigate to **Kernel > Restart Kernel and Run All Cells**"
   ]
  },
  {
   "cell_type": "markdown",
   "id": "19d55a13-dd74-4bca-907a-fe04f019a0f5",
   "metadata": {},
   "source": [
    "merged_df.head(4)"
   ]
  },
  {
   "cell_type": "markdown",
   "id": "d6e850c8-00e9-400a-afad-2b9d2eb34f6b",
   "metadata": {},
   "source": [
    "# Load data set and name it merged_df"
   ]
  },
  {
   "cell_type": "code",
   "execution_count": 3,
   "id": "eeb32a21-ab14-4e7e-9cf2-0f73063a4ded",
   "metadata": {},
   "outputs": [],
   "source": [
    "merged_df = pd.read_csv(path)"
   ]
  },
  {
   "cell_type": "markdown",
   "id": "a98ae768-ab89-48ea-81b4-a31d9a7caa48",
   "metadata": {},
   "source": [
    "# Choosing a random patient & removing keywords from the doctor's note"
   ]
  },
  {
   "cell_type": "code",
   "execution_count": 4,
   "id": "e3d62093-033a-4552-968d-4ff384e1c093",
   "metadata": {},
   "outputs": [],
   "source": [
    "# First draft Erika\n",
    "# Initialize variables to store cumulative scores\n",
    "total_correct_patients = 0\n",
    "total_correct_diagnoses = 0\n",
    "total_diagnoses = 0\n",
    "tests_taken = 0\n",
    "\n",
    "while True:\n",
    "    # Pull up a random entry\n",
    "    random_patient = merged_df.sample(n=1, replace=False)\n",
    "\n",
    "    # Display the random patient's doctors note as is - this was used as part of testing to see if the replacement is working correctly.\n",
    "    #print(\"Random Patient doctor's note before replacement:\\n\", random_patient['Part 7'].iloc[0])\n",
    "    \n",
    "    # Define the list of n-grams to replace\n",
    "    ngrams_to_replace = ['asthma', 'iron def', 'pneum', 'substance', 'fibro', 'malnutr']\n",
    "    \n",
    "    # Create a new column for modified notes without overwriting the original 'Part 7'\n",
    "    random_patient['Modified_Note'] = random_patient['Doc Note'].apply(lambda x: str(x))\n",
    "    \n",
    "    # Replace entire words matching the n-grams with \"(DIAGNOSIS)\"\n",
    "    for ngram in ngrams_to_replace:\n",
    "        # Use capturing group to match either the n-gram or the n-gram followed by additional characters\n",
    "        random_patient['Modified_Note'] = random_patient['Modified_Note'].apply(lambda x: re.sub(r'\\b({}|{}(?:\\w+)?)(?!\\w)'.format(re.escape(ngram), re.escape(ngram)), '(DIAGNOSIS)', str(x), flags=re.IGNORECASE))\n",
    "    \n",
    "    # Display the full note for the random patient after replacement - this was used as part of testing to see if the replacement is working correctly.\n",
    "    #print(\"\\nRandom Patient Note after replacement:\\n\", random_patient['Modified_Note'].iloc[0])\n",
    "\n",
    "    # Setting up the UI\n",
    "    \n",
    "    sg.theme('Default1')\n",
    "\n",
    "    standardfont = (\"Segoe UI\",12)\n",
    "    layout = [[sg.Text('Test Your Knowledge', font=(\"Segoe UI Black\", 16))],[sg.Text('Patient Information:', font=standardfont)],]\n",
    "\n",
    "    patient_info_keys = {\n",
    "        \"rcount\": \"Number of Readmissions in the last 180 days\",\n",
    "        \"gender\": \"Gender\",\n",
    "        \"hematocrit\": \"Hematocrit (g/dL)\",\n",
    "        \"neutrophils\": \"Neutrophils (cells/microL)\",\n",
    "        \"sodium\": \"Sodium (mmol/L)\",\n",
    "        \"glucose\": \"Glucose (mmol/L)\",\n",
    "        \"bloodureanitro\": \"Blood Urea Nitrogen (mg/dL)\",\n",
    "        \"creatinine\": \"Creatinine (mg/dL)\",\n",
    "        \"bmi\": \"BMI (kg/m2)\",\n",
    "        \"pulse\": \"Pulse (beats/min)\",\n",
    "        \"respiration\": \"Respiration (breaths/min)\",\n",
    "    }\n",
    "\n",
    "    layout += [\n",
    "        [sg.Text(f'{display_name}: {random_patient[key].iloc[0]}', font=standardfont)] for key, display_name in patient_info_keys.items()\n",
    "    ]\n",
    "\n",
    "    layout += [\n",
    "        [sg.Text('Doctor\\'s Note:', font=standardfont)],\n",
    "        [sg.Text(random_patient['Modified_Note'].iloc[0], size=(60, 8), key='note', font=standardfont)],\n",
    "        [sg.Text('Select Diagnosis(es):', font=standardfont)],\n",
    "        [sg.Checkbox(display_name, key=key.lower(), font=standardfont) for key, display_name in {\"asthma\": \"Asthma\", \"iron_def\": \"Iron Deficiency\", \"pneum\": \"Pneumonia\", \"substancedependence\": \"Substance Abuse\", \"fibrosisandother\": \"Fibrosis\", \"malnutrition\": \"Malnutrition\"}.items()],\n",
    "        [sg.Button('Submit', font=standardfont), sg.Button('Exit', font=standardfont)]\n",
    "    ]\n",
    "    \n",
    "    # Create the window\n",
    "    window = sg.Window('Medical Knowledge Test', layout)\n",
    "\n",
    "    event, values = window.read()\n",
    "\n",
    "    if event == sg.WINDOW_CLOSED or event == 'Exit':\n",
    "        break\n",
    "    elif event == 'Submit':\n",
    "        # Add one patient to the scoring system\n",
    "        tests_taken += 1\n",
    "        \n",
    "        # This code only keeps record of checkboxes which are ticked through the if value.\n",
    "        selected_diagnoses = [key.replace('_', '') for key, value in values.items() if value]\n",
    "\n",
    "        # Check which diagnoses were selected correctly, incorrectly and those which weren't selected but should have bene\n",
    "        correct_diagnoses = [diag for diag in selected_diagnoses if random_patient[diag].iloc[0] == 1]\n",
    "        incorrect_diagnoses = [diag for diag in selected_diagnoses if random_patient[diag].iloc[0] == 0]\n",
    "        missed_diagnoses = [diag for diag in random_patient.columns if random_patient[diag].iloc[0] == 1 and diag not in selected_diagnoses]\n",
    "\n",
    "        # Keep track of the metrics that will be used for the final scoring\n",
    "        total_correct_patients += 1 if not missed_diagnoses and not incorrect_diagnoses else 0\n",
    "        total_correct_diagnoses += len(correct_diagnoses)\n",
    "        total_diagnoses += len(correct_diagnoses) + len(missed_diagnoses)\n",
    "\n",
    "        # Give instnat feedback to the student\n",
    "        feedback = f\"Selected Correctly: {', '.join(correct_diagnoses) or 'None'}\\n\"\n",
    "        feedback += f\"Selected Incorrectly: {', '.join(incorrect_diagnoses) or 'None'}\\n\"\n",
    "        feedback += f\"Missed Diagnoses: {', '.join(missed_diagnoses) or 'None'}\"\n",
    "\n",
    "        sg.popup(f\"Feedback\", feedback)\n",
    "        window.close()\n",
    "        \n",
    "# Calculate overall scores after the user exits\n",
    "overall_macro_score = total_correct_patients / tests_taken if tests_taken > 0 else 0\n",
    "overall_micro_score = total_correct_diagnoses / total_diagnoses if total_diagnoses > 0 else 0\n",
    "\n",
    "# Display overall scores\n",
    "overall_feedback = f\"Overall Macro Score (Patients guessed completely correctly): {overall_macro_score * 100:.2f}%\\n\"\n",
    "overall_feedback += f\"Overall Micro Score (Percentage of diagnoses guessed correctly): {overall_micro_score * 100:.2f}%\\n\"\n",
    "\n",
    "sg.popup(f\"Overall Results\", overall_feedback)\n",
    "\n",
    "# Close the window\n",
    "window.close()"
   ]
  },
  {
   "cell_type": "markdown",
   "id": "459b6401-f14e-4360-abdb-84c37e12a477",
   "metadata": {},
   "source": [
    "#The below lines of code were used to experiment and navigate through PySimpleGUI to understand what was customizable.\n",
    "\n",
    "import PySimpleGUI as sg\n",
    "\n",
    "sg.theme_previewer()\n",
    "\n",
    "#for font in sg.Text.fonts_installed_list():\n",
    "    #print(font)"
   ]
  },
  {
   "cell_type": "code",
   "execution_count": null,
   "id": "be0959db-7025-4d74-b8fc-efcc396a0471",
   "metadata": {},
   "outputs": [],
   "source": []
  }
 ],
 "metadata": {
  "kernelspec": {
   "display_name": "Python 3 (ipykernel)",
   "language": "python",
   "name": "python3"
  },
  "language_info": {
   "codemirror_mode": {
    "name": "ipython",
    "version": 3
   },
   "file_extension": ".py",
   "mimetype": "text/x-python",
   "name": "python",
   "nbconvert_exporter": "python",
   "pygments_lexer": "ipython3",
   "version": "3.8.18"
  }
 },
 "nbformat": 4,
 "nbformat_minor": 5
}

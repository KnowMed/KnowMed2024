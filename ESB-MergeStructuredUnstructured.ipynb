{
 "cells": [
  {
   "cell_type": "markdown",
   "id": "4b9c0ae0-bef2-4144-9d23-cfbd1af7dc76",
   "metadata": {},
   "source": [
    "# Merging the Structured and Unstructured Data Set following NLP analysis\n",
    "\n",
    "This notebook takes the structured data set and cleans it to keep only the diagnoses which will be considered for the proof of concept, and matches a doctor's note for each patient.\n",
    "\n",
    "Doctor's notes may be repeated depedning on the data set size limitations."
   ]
  },
  {
   "cell_type": "code",
   "execution_count": 1,
   "id": "fb7d74b7-3085-4731-94e5-cbaa84af4a7d",
   "metadata": {},
   "outputs": [],
   "source": [
    "# Libraries\n",
    "import pandas as pd\n",
    "import numpy as np\n",
    "import re"
   ]
  },
  {
   "cell_type": "code",
   "execution_count": 2,
   "id": "a524be6d-a7d0-4743-8eb7-18934803c5fa",
   "metadata": {},
   "outputs": [],
   "source": [
    "# Paths\n",
    "docnotes_csv = 'output_comparison.csv' #Unstructured data set following information retrieval\n",
    "ehr_csv = 'LengthOfStay.csv'#Structured Data set\n",
    "cleaned_csv_path = 'MergedData.csv' #Where to save the combined structured + unstructured data sets"
   ]
  },
  {
   "cell_type": "code",
   "execution_count": 3,
   "id": "1cabc0bb-b2f4-4e0e-8472-645293eefd20",
   "metadata": {},
   "outputs": [
    {
     "name": "stderr",
     "output_type": "stream",
     "text": [
      "C:\\Users\\erika\\AppData\\Local\\Temp\\ipykernel_5772\\2879214836.py:11: SettingWithCopyWarning: \n",
      "A value is trying to be set on a copy of a slice from a DataFrame.\n",
      "Try using .loc[row_indexer,col_indexer] = value instead\n",
      "\n",
      "See the caveats in the documentation: https://pandas.pydata.org/pandas-docs/stable/user_guide/indexing.html#returning-a-view-versus-a-copy\n",
      "  docnotes_df[verdict_columns] = docnotes_df[verdict_columns].replace('Positive', 1).fillna(0)\n"
     ]
    }
   ],
   "source": [
    "#First draft Erika\n",
    "# Load doctor's notes\n",
    "df = pd.read_csv(docnotes_csv)\n",
    "\n",
    "# Kep required columns\n",
    "notescols_tokeep = ['Part 7', 'Verdict - asthma', 'Verdict - iron def', 'Verdict - pneumoni', 'Verdict - substance', 'Verdict - fibrosis', 'Verdict - malnutr']\n",
    "docnotes_df = df[notescols_tokeep]\n",
    "\n",
    "# In the verdict column replace the word \"Positive\" with 1 and fill everything else with 0 - this will make the values comparable to the structured data set\n",
    "verdict_columns = ['Verdict - asthma', 'Verdict - iron def', 'Verdict - pneumoni', 'Verdict - substance', 'Verdict - fibrosis', 'Verdict - malnutr']\n",
    "docnotes_df[verdict_columns] = docnotes_df[verdict_columns].replace('Positive', 1).fillna(0)\n",
    "\n",
    "# Print dataframe\n",
    "# print(docnotes_df.head(3))"
   ]
  },
  {
   "cell_type": "code",
   "execution_count": 4,
   "id": "d6854df5-ded3-499a-a0d5-59948bd6ac16",
   "metadata": {},
   "outputs": [],
   "source": [
    "# First draft Erika\n",
    "# Load data from the structured csv file\n",
    "\n",
    "df = pd.read_csv(ehr_csv)\n",
    "\n",
    "# The POC focuses on these main diagnoses\n",
    "diagnoses_columns = ['asthma', 'irondef', 'pneum', 'substancedependence', 'fibrosisandother', 'malnutrition']\n",
    "\n",
    "# Filter rows that have at least one condition marked with 1\n",
    "structured_df = df[df[diagnoses_columns].eq(1).any(axis=1)]"
   ]
  },
  {
   "cell_type": "code",
   "execution_count": 5,
   "id": "2ca7f2eb-c665-4a0f-be15-edcad21dac06",
   "metadata": {},
   "outputs": [
    {
     "name": "stderr",
     "output_type": "stream",
     "text": [
      "C:\\Users\\erika\\AppData\\Local\\Temp\\ipykernel_5772\\2769595952.py:5: SettingWithCopyWarning: \n",
      "A value is trying to be set on a copy of a slice from a DataFrame.\n",
      "Try using .loc[row_indexer,col_indexer] = value instead\n",
      "\n",
      "See the caveats in the documentation: https://pandas.pydata.org/pandas-docs/stable/user_guide/indexing.html#returning-a-view-versus-a-copy\n",
      "  structured_df['Doc Note'] = np.nan\n"
     ]
    }
   ],
   "source": [
    "# First draft Erika\n",
    "docnotes_df = docnotes_df.rename(columns=dict(zip(verdict_columns, diagnoses_columns)))\n",
    "\n",
    "# create a new column to place the doctor's notes in\n",
    "structured_df['Doc Note'] = np.nan\n",
    "\n",
    "for index, row in structured_df.iterrows():\n",
    "    # Extract the values from the current row in structured_df\n",
    "    current_diagnoses_values = row[diagnoses_columns]\n",
    "\n",
    "    # Check for an exact match in docnotes_df\n",
    "    match_mask = (docnotes_df[diagnoses_columns].eq(current_diagnoses_values)).all(axis=1)\n",
    "\n",
    "    # Copy a random note that matches the set of diagnoses\n",
    "    if match_mask.any():\n",
    "        matched_notes = docnotes_df.loc[match_mask, 'Part 7']\n",
    "        selected_note = np.random.choice(matched_notes)\n",
    "        structured_df.at[index, 'Doc Note'] = selected_note\n",
    "\n",
    "# Print the updated structured_df\n",
    "# print(structured_df.head(3))"
   ]
  },
  {
   "cell_type": "code",
   "execution_count": 6,
   "id": "ae443a46-9169-4d56-945a-414bdfa0ecd7",
   "metadata": {},
   "outputs": [],
   "source": [
    "# First draft Erika\n",
    "# Filter out rows with blank 'Doc Note' column\n",
    "structured_df = structured_df.dropna(subset=['Doc Note'])\n",
    "# Remove the columns which are not needed\n",
    "structured_df = structured_df.drop(columns=['vdate', 'secondarydiagnosisnonicd9', 'discharged', 'facid', 'lengthofstay', 'dialysisrenalendstage', 'psychologicaldisordermajor', 'depress', 'psychother', 'hemo'])\n",
    "\n",
    "# Ensure that gender in the doc note is consistent with the gender in the gender column, to make the note make more sense\n",
    "for index, row in structured_df.iterrows():\n",
    "    # Extract values from the current row\n",
    "    doc_note = row['Doc Note']\n",
    "    gender = row['gender']\n",
    "\n",
    "    # Check if gender contains 'F' and doc note contains 'male', then replace with 'female'\n",
    "    if 'F' in gender and re.search(r'\\bmale\\b', doc_note, flags=re.IGNORECASE):\n",
    "        structured_df.at[index, 'Doc Note'] = re.sub(r'\\bmale\\b', 'female', doc_note, flags=re.IGNORECASE)\n",
    "\n",
    "    # Check if gender contains 'M' and doc note contains 'female', then replace with 'male'\n",
    "    elif 'M' in gender and re.search(r'\\bfemale\\b', doc_note, flags=re.IGNORECASE):\n",
    "        structured_df.at[index, 'Doc Note'] = re.sub(r'\\bfemale\\b', 'male', doc_note, flags=re.IGNORECASE)"
   ]
  },
  {
   "cell_type": "code",
   "execution_count": 7,
   "id": "44f05352-4bcd-4117-9f17-d4f152645b78",
   "metadata": {},
   "outputs": [],
   "source": [
    "# Save the cleaned DataFrame to a new CSV file\n",
    "structured_df.to_csv(cleaned_csv_path, index=False)"
   ]
  }
 ],
 "metadata": {
  "kernelspec": {
   "display_name": "Python 3 (ipykernel)",
   "language": "python",
   "name": "python3"
  },
  "language_info": {
   "codemirror_mode": {
    "name": "ipython",
    "version": 3
   },
   "file_extension": ".py",
   "mimetype": "text/x-python",
   "name": "python",
   "nbconvert_exporter": "python",
   "pygments_lexer": "ipython3",
   "version": "3.8.18"
  }
 },
 "nbformat": 4,
 "nbformat_minor": 5
}

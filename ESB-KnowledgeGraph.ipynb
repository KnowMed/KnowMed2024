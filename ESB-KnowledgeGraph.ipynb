{
 "cells": [
  {
   "cell_type": "code",
   "execution_count": 1,
   "id": "99fd8a37-e7e7-4474-baff-ff2ff9140852",
   "metadata": {},
   "outputs": [],
   "source": [
    "# Libraries\n",
    "import pandas as pd\n",
    "from py2neo import Graph, Node, Relationship\n",
    "import networkx as nx\n",
    "import matplotlib.pyplot as plt"
   ]
  },
  {
   "cell_type": "code",
   "execution_count": 2,
   "id": "b7fe3d40-6ff6-4dce-9d90-0c81fdb4fa03",
   "metadata": {},
   "outputs": [],
   "source": [
    "# Paths\n",
    "path = 'MergedData.csv'"
   ]
  },
  {
   "cell_type": "code",
   "execution_count": 3,
   "id": "c4a6a283-bf5f-4267-865f-8d70779f18cd",
   "metadata": {},
   "outputs": [],
   "source": [
    "# First draft Erika\n",
    "# Load data from the csv file\n",
    "df = pd.read_csv(path)\n",
    "\n",
    "# The POC focuses on these main diagnoses\n",
    "diagnoses = ['asthma', 'irondef', 'pneum', 'substancedependence', 'fibrosisandother', 'malnutrition']"
   ]
  },
  {
   "cell_type": "code",
   "execution_count": 4,
   "id": "121a8ea8-06c7-4099-b44b-6a3e2196444a",
   "metadata": {},
   "outputs": [],
   "source": [
    "# First draft Erika\n",
    "# Create a directed graph using NetworkX\n",
    "G = nx.DiGraph()"
   ]
  },
  {
   "cell_type": "code",
   "execution_count": 5,
   "id": "14964c10-e8ec-4efc-ac63-9761a84f5e50",
   "metadata": {},
   "outputs": [],
   "source": [
    "# First draft Erika\n",
    "# Add nodes and edges for attributes\n",
    "for index, row in df.iterrows():\n",
    "    eid = row['eid']\n",
    "    G.add_node(eid, gender=row['gender'], rcount=row['rcount'],\n",
    "               hematocrit=row['hematocrit'], neutrophils=row['neutrophils'],\n",
    "               sodium=row['sodium'], glucose=row['glucose'],\n",
    "               bloodureanitro=row['bloodureanitro'], creatinine=row['creatinine'],\n",
    "               bmi=row['bmi'], pulse=row['pulse'],docnote=row['Doc Note'])\n",
    "\n",
    "    # Add nodes and edges for conditions\n",
    "    diagnoses = ['asthma', 'irondef', 'pneum', 'substancedependence', 'fibrosisandother', 'malnutrition']\n",
    "    \n",
    "    for diagnosis in diagnoses:\n",
    "        if row[diagnosis] == 1:\n",
    "            G.add_node(diagnosis)\n",
    "            G.add_edge(eid, diagnosis)"
   ]
  },
  {
   "cell_type": "code",
   "execution_count": 6,
   "id": "9b264056-25b8-40e9-8795-969c57faf288",
   "metadata": {},
   "outputs": [
    {
     "data": {
      "image/png": "[encoded data removed]",
      "text/plain": [
       "<Figure size 400x300 with 1 Axes>"
      ]
     },
     "metadata": {},
     "output_type": "display_data"
    },
    {
     "name": "stdout",
     "output_type": "stream",
     "text": [
      "Patient 23 Attributes:\n",
      "gender: M\n",
      "rcount: 3\n",
      "hematocrit: 13.2\n",
      "neutrophils: 6.3\n",
      "sodium: 137.3711519\n",
      "glucose: 147.0920035\n",
      "bloodureanitro: 28.0\n",
      "creatinine: 1.065005463\n",
      "bmi: 28.34169288\n",
      "pulse: 70\n",
      "docnote: FINAL DIAGNOSIS: Advanced metastatic colon cancer, anorexia, malnutrition and lower extremity edema. DISCHARGE MEDICATIONS: 1. Nexium. 2. MS Contin. 3. Senokot. 4. Hytrin. 5. Tylenol with codeine. 6. Magic mouthwash. 7. Reglan. 8. Morphine instant release. 9. Compazine and Restoril. DISPOSITION: Hospice to Our Lady of Good Counsel.\n"
     ]
    }
   ],
   "source": [
    "# First draft Erika\n",
    "patient_num = 23\n",
    "\n",
    "# Create a subgraph containing nodes and edges connected to the specified patient\n",
    "subset_nodes = list(G.neighbors(patient_num)) + [patient_num]\n",
    "subset_edges = list(G.edges(patient_num))\n",
    "\n",
    "subset_graph = G.subgraph(subset_nodes + subset_edges)\n",
    "\n",
    "# Visualize the subgraph with node attributes\n",
    "pos = nx.spring_layout(subset_graph)\n",
    "\n",
    "# Extract the attributes of the specified node\n",
    "node_attributes = subset_graph.nodes[patient_num]\n",
    "\n",
    "# Draw the graph\n",
    "plt.figure(figsize=(4, 3))\n",
    "nx.draw(subset_graph, pos, with_labels=True, font_weight='bold', node_size=700, node_color='skyblue', edge_color='gray')\n",
    "plt.show()\n",
    "\n",
    "# Print the node attributes\n",
    "print(f\"Patient {patient_num} Attributes:\")\n",
    "for attribute, value in node_attributes.items():\n",
    "    print(f\"{attribute}: {value}\")"
   ]
  },
  {
   "cell_type": "code",
   "execution_count": null,
   "id": "dca4701e-459d-467a-977e-10a03d460d50",
   "metadata": {},
   "outputs": [],
   "source": [
    "# First draft Erika\n",
    "# Connect to Neo4j\n",
    "graph = Graph(\"bolt://localhost:7687\", auth=(\"neo4j\", \"diagtest\"))\n",
    "\n",
    "# Clear any existing graph (delete all nodes and relationships)\n",
    "graph.run(\"MATCH (n) DETACH DELETE n\")\n",
    "\n",
    "# Add nodes and edges for attributes\n",
    "for index, row in df.iterrows():\n",
    "    Patient_ID = row['eid']\n",
    "    \n",
    "    # Create or update the patient node with attributes\n",
    "    patient_node = Node(\"Patient\", Patient_ID=row['eid'], Gender=row['gender'], Readmissions_last_180_days=row['rcount'],\n",
    "                       Hematocrit=row['hematocrit'], Nutrophils=row['neutrophils'],\n",
    "                       Sodium=row['sodium'], Glucose=row['glucose'],\n",
    "                       Blood_Urea_Nitrogen=row['bloodureanitro'], Creatinine=row['creatinine'],\n",
    "                       BMI=row['bmi'], Pulse=row['pulse'], Respiration=row['respiration'], Doc_Note=row['Doc Note'])\n",
    "    graph.merge(patient_node, \"Patient\", \"Patient_ID\")\n",
    "\n",
    "    # Defining the nodes for the conditons\n",
    "    conditions = ['asthma', 'irondef', 'pneum', 'fibrosisandother', 'malnutrition']\n",
    "\n",
    "    # Creating the relationships between the patients and the diagnoses\n",
    "    for condition in conditions:\n",
    "        if row[condition] == 1:\n",
    "            condition_node = Node(\"Condition\", name=condition)\n",
    "            graph.merge(condition_node, \"Condition\", \"name\")\n",
    "\n",
    "            relationship = Relationship(patient_node, \"HAS_CONDITION\", condition_node)\n",
    "            graph.create(relationship)"
   ]
  },
  {
   "cell_type": "markdown",
   "id": "d8664ec0-c15f-4b3d-8ea1-6acbafa89020",
   "metadata": {},
   "source": [
    "Run the below in neo4j desktop to view the first 250 patients (you can change this from the limit 250 line)\n",
    "MATCH (e:Entity)-[r:HAS_CONDITION]->(c:Condition)\r\n",
    "WITH e, r, c\r\n",
    "ORDER BY Patient_IDid\r\n",
    "LIMIT 250\r\n",
    "RETURN e, r, c;"
   ]
  },
  {
   "cell_type": "code",
   "execution_count": null,
   "id": "d014c987-8201-411a-86ca-22482324f25a",
   "metadata": {},
   "outputs": [],
   "source": []
  }
 ],
 "metadata": {
  "kernelspec": {
   "display_name": "Python 3 (ipykernel)",
   "language": "python",
   "name": "python3"
  },
  "language_info": {
   "codemirror_mode": {
    "name": "ipython",
    "version": 3
   },
   "file_extension": ".py",
   "mimetype": "text/x-python",
   "name": "python",
   "nbconvert_exporter": "python",
   "pygments_lexer": "ipython3",
   "version": "3.8.18"
  }
 },
 "nbformat": 4,
 "nbformat_minor": 5
}

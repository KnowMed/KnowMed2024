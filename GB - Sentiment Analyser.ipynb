{
 "cells": [
  {
   "cell_type": "markdown",
   "id": "68c82393",
   "metadata": {},
   "source": [
    "This notebook includes the tests carried out using sentiment analysis. FinalNLP is the code for the final NLP pipeline.\n"
   ]
  },
  {
   "cell_type": "code",
   "execution_count": 1,
   "id": "92364f15",
   "metadata": {},
   "outputs": [
    {
     "name": "stderr",
     "output_type": "stream",
     "text": [
      "/Users/tanobugelli/anaconda3/envs/KnowledgeGraphs/lib/python3.8/site-packages/tqdm/auto.py:21: TqdmWarning: IProgress not found. Please update jupyter and ipywidgets. See https://ipywidgets.readthedocs.io/en/stable/user_install.html\n",
      "  from .autonotebook import tqdm as notebook_tqdm\n"
     ]
    }
   ],
   "source": [
    "from transformers import pipeline, BertTokenizer, BertForSequenceClassification\n",
    "\n",
    "# Load the sentiment analysis model for English\n",
    "sentiment_analyzer = pipeline(\"sentiment-analysis\", model=BertForSequenceClassification.from_pretrained(\"nlptown/bert-base-multilingual-uncased-sentiment\"), tokenizer=BertTokenizer.from_pretrained(\"nlptown/bert-base-multilingual-uncased-sentiment\"))\n"
   ]
  },
  {
   "cell_type": "code",
   "execution_count": 3,
   "id": "71a22aeb",
   "metadata": {},
   "outputs": [
    {
     "name": "stdout",
     "output_type": "stream",
     "text": [
      "Enter medical record (write 'done' to exit): Mild asthma, myomatous uterus, CF mutation in the patient with FOB negative, an elevated GCT and normal GTT. OB HISTORY: 1. Elective AB x1. 2. SAB x1 in the first trimester. 3. IUFD at 18 weeks follow\n",
      "Sentiment related to 'asthma': Slightly negative sentiment. \n",
      "\n",
      "Sentiment: 2 stars (Confidence: 0.38)\n",
      "\n",
      "Enter medical record (write 'done' to exit): PAST MEDICAL HISTORY: History of substance abuse with methadone being her drug of choice\n",
      "Sentiment related to 'substance': Very positive sentiment! \n",
      "\n",
      "Sentiment: 5 stars (Confidence: 0.37)\n",
      "\n",
      "Enter medical record (write 'done' to exit): Patient is a 33-year-old woman with a history of depression x3 years, who presents to the Emergency Department following a polysubstance overdose.\n",
      "Sentiment related to 'substance': Positive sentiment. \n",
      "\n",
      "Sentiment: 4 stars (Confidence: 0.37)\n",
      "\n",
      "Sentiment related to 'depress': Positive sentiment. \n",
      "\n",
      "Sentiment: 4 stars (Confidence: 0.37)\n",
      "\n",
      "Enter medical record (write 'done' to exit): Known history of polysubstance abuse with drugs of choice crack cocaine, marijuana and alcohol\n",
      "Sentiment related to 'substance': Negative sentiment. \n",
      "\n",
      "Sentiment: 1 star (Confidence: 0.48)\n",
      "\n",
      "Enter medical record (write 'done' to exit): 3. End-stage renal disease. 4. Coronary artery disease. OPERATIONS/PROCEDURES PERFORMED: Imaging/Investigations done during this hospitalization: 1. Chest x-ray, PA and lateral, _%#MM#%_ _%#DD#%_, 2006. Impression #1. Extensive fibrosis in the right hemithorax that has not significantly changed. Impression #2. Clear left lung. 2. Chest x-ray, _%#MM#%_ _%#DD#%_, 2006.\n",
      "Sentiment related to 'fibrosis': Neutral sentiment. \n",
      "\n",
      "Sentiment: 3 stars (Confidence: 0.27)\n",
      "\n",
      "Enter medical record (write 'done' to exit): I am now being asked to evaluate this lesion for debridement. PAST MEDICAL HISTORY: Significant for malnutrition, CVA with hemiparesis, hypertension, urinary incontinence, anxiety, multiple aspiration pneumoniae. PAST SURGICAL HISTORY: Spinal surgery, head injury in 1980 and two craniectomies.\n",
      "Sentiment related to 'pneum': Slightly negative sentiment. \n",
      "\n",
      "Sentiment: 2 stars (Confidence: 0.26)\n",
      "\n",
      "Sentiment related to 'malnutr': Slightly negative sentiment. \n",
      "\n",
      "Sentiment: 2 stars (Confidence: 0.26)\n",
      "\n",
      "Enter medical record (write 'done' to exit): I am so happy, you have no idea. My girlfriend is brilliant. Our AI model is going to be launched tomorrow\n",
      "The input does not contain any of the specified keywords. \n",
      "\n",
      "Enter medical record (write 'done' to exit): I am so happy, you have no idea. My girlfriend is brilliant. Our AI model is going to be launched tomorrow. AND I DO NOT HAVE ASTHMA!!!\n",
      "Sentiment related to 'asthma': Very positive sentiment! \n",
      "\n",
      "Sentiment: 5 stars (Confidence: 0.93)\n",
      "\n",
      "Enter medical record (write 'done' to exit): NO ASTHMA TODAY!!\n",
      "Sentiment related to 'asthma': Negative sentiment. \n",
      "\n",
      "Sentiment: 1 star (Confidence: 0.47)\n",
      "\n",
      "Enter medical record (write 'done' to exit): I DO NOT HAVE ASTHMA, I AM SO HAPPY\n",
      "Sentiment related to 'asthma': Very positive sentiment! \n",
      "\n",
      "Sentiment: 5 stars (Confidence: 0.78)\n",
      "\n",
      "Enter medical record (write 'done' to exit): done\n",
      "Have a good day!\n"
     ]
    }
   ],
   "source": [
    "#Sentiment Analysis for whole doctors' note\n",
    "\n",
    "# List of keywords to focus on\n",
    "target_keywords = [\"dialysis renal\", \"asthma\", \"iron def\", \"pneum\", \"substance\", \"psych\", \"depress\", \"psychother\", \"fibrosis\", \"malnutr\"]\n",
    "\n",
    "while True:\n",
    "    user_text_english = input(\"Enter medical record (write 'done' to exit): \")\n",
    "\n",
    "    # Check if the user wants to exit\n",
    "    if user_text_english.lower() == 'done':\n",
    "        print(\"Have a good day!\")\n",
    "        break\n",
    "\n",
    "    # Perform sentiment analysis for each target keyword\n",
    "    for keyword in target_keywords:\n",
    "        if keyword in user_text_english.lower():\n",
    "            # Perform sentiment analysis in English for the specific keyword\n",
    "            results = sentiment_analyzer(user_text_english)\n",
    "\n",
    "            # Display the result\n",
    "            sentiment = results[0]['label']\n",
    "            confidence = results[0]['score']\n",
    "\n",
    "            # Map sentiment to response\n",
    "            if sentiment == \"1 star\":\n",
    "                print(f\"Sentiment related to '{keyword}': Negative sentiment. \\n\")\n",
    "            elif sentiment == \"2 stars\":\n",
    "                print(f\"Sentiment related to '{keyword}': Slightly negative sentiment. \\n\")\n",
    "            elif sentiment == \"3 stars\":\n",
    "                print(f\"Sentiment related to '{keyword}': Neutral sentiment. \\n\")\n",
    "            elif sentiment == \"4 stars\":\n",
    "                print(f\"Sentiment related to '{keyword}': Positive sentiment. \\n\")\n",
    "            else:\n",
    "                print(f\"Sentiment related to '{keyword}': Very positive sentiment! \\n\")\n",
    "\n",
    "            print(f\"Sentiment: {sentiment} (Confidence: {confidence:.2f})\\n\")\n",
    "\n",
    "    # Notify if none of the keywords are found in the input\n",
    "    if all(keyword not in user_text_english.lower() for keyword in target_keywords):\n",
    "        print(\"The input does not contain any of the specified keywords. \\n\")\n"
   ]
  },
  {
   "cell_type": "code",
   "execution_count": 7,
   "id": "807bd8ac",
   "metadata": {},
   "outputs": [
    {
     "name": "stdout",
     "output_type": "stream",
     "text": [
      "Sentence: Most likely the cause for her significant asthmatic component.\n",
      "Sentiment Polarity: 0.2916666666666667\n",
      "----\n"
     ]
    }
   ],
   "source": [
    "#Sentiment Analysis on specific words within the doctors' note - replace target_word with condition of interest\n",
    "\n",
    "from textblob import TextBlob\n",
    "\n",
    "def analyze_sentiment(text, target_word):\n",
    "    blob = TextBlob(text)\n",
    "    \n",
    "    # Iterate through sentences containing the target word\n",
    "    for sentence in blob.sentences:\n",
    "        if target_word in sentence.words:\n",
    "            sentiment = sentence.sentiment.polarity\n",
    "            print(f\"Sentence: {sentence}\")\n",
    "            print(f\"Sentiment Polarity: {sentiment}\")\n",
    "            print(\"----\")\n",
    "\n",
    "# Example text\n",
    "text = \"4. Cystic fibrosis exacerbation: She has been on chronic antibiotics because of her severe lung disease. Will continue meropenem and tobramycin along with Zithromax and doxycycline. She will remain on Bactrim prophylaxis for possible PCP as the patient is on prednisone. In addition will continue with Vest therapy and nebs. 5. History of ABPA, on prednisone. Most likely the cause for her significant asthmatic component.\"\n",
    "#text = \"ADDENDUM: DISCHARGE DIAGNOSES: 1. Recurrent Stage IA dysgerminoma, unresectable. Status post etoposide and cisplatin X5 days, readmission with fever. 2. Cystic fibrosis exacerbation with pneumonia from multiple organisms including group D Enterococcus, resistant Alcaligenes xylosoxidans, Pseudomonas aeruginosa, and Aspergillus, on multiple antibiotics.\"\n",
    "\n",
    "\n",
    "# Target word\n",
    "target_word = \"asthmatic\"\n",
    "\n",
    "# Analyze sentiment in the context of the target word\n",
    "analyze_sentiment(text, target_word)\n"
   ]
  },
  {
   "cell_type": "code",
   "execution_count": null,
   "id": "881c5153",
   "metadata": {},
   "outputs": [],
   "source": [
    "#Positive values or negative values depending on the sentiment"
   ]
  }
 ],
 "metadata": {
  "kernelspec": {
   "display_name": "Python 3 (ipykernel)",
   "language": "python",
   "name": "python3"
  },
  "language_info": {
   "codemirror_mode": {
    "name": "ipython",
    "version": 3
   },
   "file_extension": ".py",
   "mimetype": "text/x-python",
   "name": "python",
   "nbconvert_exporter": "python",
   "pygments_lexer": "ipython3",
   "version": "3.8.18"
  }
 },
 "nbformat": 4,
 "nbformat_minor": 5
}
